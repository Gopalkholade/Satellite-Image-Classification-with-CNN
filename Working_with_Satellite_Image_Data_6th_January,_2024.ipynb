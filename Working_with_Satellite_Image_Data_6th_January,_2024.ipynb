{
  "cells": [
    {
      "cell_type": "markdown",
      "metadata": {
        "id": "yZRFXvmNx9DE"
      },
      "source": [
        "# Satellite Image Data\n",
        "\n",
        "Satellite image data refers to information captured by satellites orbiting the Earth, usually in the form of images or other types of remote sensing data. These satellites are equipped with sensors that can detect and record electromagnetic radiation across different wavelengths. The collected data provides valuable insights into various aspects of the Earth's surface and atmosphere."
      ]
    },
    {
      "cell_type": "markdown",
      "metadata": {
        "id": "KOLhuV5jy47W"
      },
      "source": [
        "# Use cases\n",
        "\n",
        "Satellite image data is utilized in a wide range of fields and applications due to its ability to provide detailed information about the Earth's surface and atmosphere. Here are some prominent use cases:\n",
        "\n",
        "* Environmental Monitoring:\n",
        "\t* Deforestation Analysis: Satellite imagery is used to monitor changes in forest cover, identify deforested areas, and assess the impact on ecosystems.\n",
        "\t* Habitat Monitoring: Observing and protecting natural habitats by tracking changes in vegetation, water bodies, and biodiversity.\n",
        "\n",
        "* Agriculture:\n",
        "\t* Crop Health Assessment: Monitoring crops using satellite data helps detect diseases, assess overall health, and optimize irrigation and fertilizer application.\n",
        "\t* Yield Prediction: Predicting crop yields based on satellite observations assists in efficient resource management and supports food security.\n",
        "\n",
        "* Urban Planning:\n",
        "\t* Land Use and Land Cover Mapping: Satellite imagery is employed to analyze urban expansion, changes in land use, and planning infrastructure development.\n",
        "\t* Population Density Mapping: Estimating population density in urban areas to support city planning and resource allocation.\n",
        "\n",
        "* Disaster Management:\n",
        "\t* Natural Disaster Response: Rapid assessment of disaster-affected areas, including floods, earthquakes, and wildfires, to facilitate timely and effective response efforts.\n",
        "\t* Risk Assessment: Identifying vulnerable areas and assessing the potential impact of natural disasters before they occur.\n",
        "\n",
        "* Weather Forecasting:\n",
        "\t* Cloud Cover Monitoring: Monitoring cloud patterns and cover to improve weather forecasting and climate modeling.\n",
        "\t* Atmospheric Conditions: Observing atmospheric conditions, temperature, and humidity to enhance short-term and long-term weather predictions.\n",
        "* Infrastructure Monitoring:\n",
        "\t* Pipeline and Transportation Monitoring: Detecting changes and potential issues in infrastructure, such as oil and gas pipelines, railways, and roads.\n",
        "\t* Construction Monitoring: Tracking progress and changes in construction projects and infrastructure development.\n",
        "\n",
        "* Natural Resource Management:\n",
        "\t* Water Resource Monitoring: Assessing changes in water bodies, tracking water quality, and managing water resources.\n",
        "\t* Mineral Exploration: Identifying and mapping geological features to support mineral exploration activities.\n",
        "* Oceanography:\n",
        "\t* Ocean Monitoring: Studying ocean currents, temperature, and sea surface conditions for fisheries management and understanding climate patterns.\n",
        "\t* Coral Reef Monitoring: Assessing the health of coral reefs and detecting changes caused by climate change and human activities.\n",
        "\n",
        "* Humanitarian Aid:\n",
        "\t* Refugee Camp Monitoring: Observing and managing refugee camps during crises to provide support and aid distribution.\n",
        "\t* Infrastructure Damage Assessment: Assessing damage to infrastructure in conflict zones or post-disaster scenarios.\n",
        "* Scientific Research:\n",
        "\t* Climate Studies: Analyzing long-term satellite data to understand climate change, monitor ice caps, and study environmental trends.\n",
        "\t* Ecological Research: Studying ecosystems, wildlife habitats, and migration patterns for ecological research and conservation efforts.\n",
        "  \n",
        "These use cases demonstrate the versatility and importance of satellite image data in addressing various societal, environmental, and economic challenges."
      ]
    },
    {
      "cell_type": "markdown",
      "metadata": {
        "id": "Fv9ZA9bQhe7w"
      },
      "source": [
        "## Resources\n",
        "https://github.com/satellite-image-deep-learning/techniques"
      ]
    },
    {
      "cell_type": "code",
      "execution_count": null,
      "metadata": {
        "colab": {
          "base_uri": "https://localhost:8080/"
        },
        "id": "og9-sVur0-ij",
        "outputId": "d17bc260-7971-4da3-97d4-077c29611d59"
      },
      "outputs": [
        {
          "name": "stdout",
          "output_type": "stream",
          "text": [
            "Mounted at /content/drive\n"
          ]
        }
      ],
      "source": [
        "from google.colab import drive\n",
        "drive.mount('/content/drive')"
      ]
    },
    {
      "cell_type": "markdown",
      "metadata": {
        "id": "JtkcDMFnH6Xb"
      },
      "source": [
        "### Data Standardization"
      ]
    },
    {
      "cell_type": "code",
      "execution_count": null,
      "metadata": {},
      "outputs": [],
      "source": [
        "import zipfile"
      ]
    },
    {
      "cell_type": "code",
      "execution_count": null,
      "metadata": {},
      "outputs": [],
      "source": [
        "# prompt: code for unzipping data\n",
        "\n",
        "zip_ref = zipfile.ZipFile('/content/drive/MyDrive/Data Live projects/Satelight data/data-20240406T072256Z-001.zip', 'r')\n",
        "zip_ref.extractall('/content')\n",
        "zip_ref.close()\n"
      ]
    },
    {
      "cell_type": "code",
      "execution_count": null,
      "metadata": {
        "id": "OHp9ZSAaw00K"
      },
      "outputs": [],
      "source": [
        "\n",
        "import pandas as pd\n",
        "import os\n",
        "\n",
        "# Create an empty dataframe\n",
        "data = pd.DataFrame(columns=['image_path', 'label'])\n",
        "\n",
        "# Define the labels/classes\n",
        "labels = {'/content/data/cloudy' : 'Cloudy',\n",
        "          '/content/data/desert' : 'Desert',\n",
        "          '/content/data/green_area' : 'Green_Area',\n",
        "          '/content/data/water' : 'Water',\n",
        "           }"
      ]
    },
    {
      "cell_type": "code",
      "execution_count": null,
      "metadata": {
        "id": "TofxQTDyzzNM"
      },
      "outputs": [],
      "source": [
        "# Loop over the train, test, and val folders and extract the image path and label\n",
        "for folder in labels:\n",
        "    for image_name in os.listdir(folder):\n",
        "        image_path = os.path.join(folder, image_name)\n",
        "        label = labels[folder]\n",
        "        row = pd.Series({'image_path': image_path, 'label': label})\n",
        "        data = pd.concat([data, pd.DataFrame([row], columns=row.index)]).reset_index(drop=True)"
      ]
    },
    {
      "cell_type": "code",
      "execution_count": null,
      "metadata": {
        "id": "xcSFt7SMz1Gk"
      },
      "outputs": [],
      "source": [
        "# Save the data to a CSV file\n",
        "data.to_csv('image_dataset.csv', index=False)"
      ]
    },
    {
      "cell_type": "markdown",
      "metadata": {
        "id": "kyNFGvzTH-YT"
      },
      "source": [
        "### Importing Libraries & Data"
      ]
    },
    {
      "cell_type": "code",
      "execution_count": null,
      "metadata": {
        "id": "Blc8pJlqz3N-"
      },
      "outputs": [],
      "source": [
        "import pandas as pd\n",
        "import numpy as np\n",
        "from sklearn.model_selection import train_test_split\n",
        "from keras.preprocessing.image import ImageDataGenerator\n",
        "from keras.models import Sequential\n",
        "from keras.layers import Conv2D, MaxPooling2D, Flatten, Dense, Dropout"
      ]
    },
    {
      "cell_type": "code",
      "execution_count": null,
      "metadata": {
        "colab": {
          "base_uri": "https://localhost:8080/",
          "height": 206
        },
        "id": "SAKC8dmGz42p",
        "outputId": "291d0853-d1e5-47ff-8e41-89bc42a9134e"
      },
      "outputs": [
        {
          "data": {
            "text/html": [
              "\n",
              "  <div id=\"df-ca48e22d-2843-4e1a-9747-7a51e0e0bc8e\" class=\"colab-df-container\">\n",
              "    <div>\n",
              "<style scoped>\n",
              "    .dataframe tbody tr th:only-of-type {\n",
              "        vertical-align: middle;\n",
              "    }\n",
              "\n",
              "    .dataframe tbody tr th {\n",
              "        vertical-align: top;\n",
              "    }\n",
              "\n",
              "    .dataframe thead th {\n",
              "        text-align: right;\n",
              "    }\n",
              "</style>\n",
              "<table border=\"1\" class=\"dataframe\">\n",
              "  <thead>\n",
              "    <tr style=\"text-align: right;\">\n",
              "      <th></th>\n",
              "      <th>image_path</th>\n",
              "      <th>label</th>\n",
              "    </tr>\n",
              "  </thead>\n",
              "  <tbody>\n",
              "    <tr>\n",
              "      <th>0</th>\n",
              "      <td>/content/drive/MyDrive/GFG/27. Working with Sa...</td>\n",
              "      <td>Cloudy</td>\n",
              "    </tr>\n",
              "    <tr>\n",
              "      <th>1</th>\n",
              "      <td>/content/drive/MyDrive/GFG/27. Working with Sa...</td>\n",
              "      <td>Cloudy</td>\n",
              "    </tr>\n",
              "    <tr>\n",
              "      <th>2</th>\n",
              "      <td>/content/drive/MyDrive/GFG/27. Working with Sa...</td>\n",
              "      <td>Cloudy</td>\n",
              "    </tr>\n",
              "    <tr>\n",
              "      <th>3</th>\n",
              "      <td>/content/drive/MyDrive/GFG/27. Working with Sa...</td>\n",
              "      <td>Cloudy</td>\n",
              "    </tr>\n",
              "    <tr>\n",
              "      <th>4</th>\n",
              "      <td>/content/drive/MyDrive/GFG/27. Working with Sa...</td>\n",
              "      <td>Cloudy</td>\n",
              "    </tr>\n",
              "  </tbody>\n",
              "</table>\n",
              "</div>\n",
              "    <div class=\"colab-df-buttons\">\n",
              "\n",
              "  <div class=\"colab-df-container\">\n",
              "    <button class=\"colab-df-convert\" onclick=\"convertToInteractive('df-ca48e22d-2843-4e1a-9747-7a51e0e0bc8e')\"\n",
              "            title=\"Convert this dataframe to an interactive table.\"\n",
              "            style=\"display:none;\">\n",
              "\n",
              "  <svg xmlns=\"http://www.w3.org/2000/svg\" height=\"24px\" viewBox=\"0 -960 960 960\">\n",
              "    <path d=\"M120-120v-720h720v720H120Zm60-500h600v-160H180v160Zm220 220h160v-160H400v160Zm0 220h160v-160H400v160ZM180-400h160v-160H180v160Zm440 0h160v-160H620v160ZM180-180h160v-160H180v160Zm440 0h160v-160H620v160Z\"/>\n",
              "  </svg>\n",
              "    </button>\n",
              "\n",
              "  <style>\n",
              "    .colab-df-container {\n",
              "      display:flex;\n",
              "      gap: 12px;\n",
              "    }\n",
              "\n",
              "    .colab-df-convert {\n",
              "      background-color: #E8F0FE;\n",
              "      border: none;\n",
              "      border-radius: 50%;\n",
              "      cursor: pointer;\n",
              "      display: none;\n",
              "      fill: #1967D2;\n",
              "      height: 32px;\n",
              "      padding: 0 0 0 0;\n",
              "      width: 32px;\n",
              "    }\n",
              "\n",
              "    .colab-df-convert:hover {\n",
              "      background-color: #E2EBFA;\n",
              "      box-shadow: 0px 1px 2px rgba(60, 64, 67, 0.3), 0px 1px 3px 1px rgba(60, 64, 67, 0.15);\n",
              "      fill: #174EA6;\n",
              "    }\n",
              "\n",
              "    .colab-df-buttons div {\n",
              "      margin-bottom: 4px;\n",
              "    }\n",
              "\n",
              "    [theme=dark] .colab-df-convert {\n",
              "      background-color: #3B4455;\n",
              "      fill: #D2E3FC;\n",
              "    }\n",
              "\n",
              "    [theme=dark] .colab-df-convert:hover {\n",
              "      background-color: #434B5C;\n",
              "      box-shadow: 0px 1px 3px 1px rgba(0, 0, 0, 0.15);\n",
              "      filter: drop-shadow(0px 1px 2px rgba(0, 0, 0, 0.3));\n",
              "      fill: #FFFFFF;\n",
              "    }\n",
              "  </style>\n",
              "\n",
              "    <script>\n",
              "      const buttonEl =\n",
              "        document.querySelector('#df-ca48e22d-2843-4e1a-9747-7a51e0e0bc8e button.colab-df-convert');\n",
              "      buttonEl.style.display =\n",
              "        google.colab.kernel.accessAllowed ? 'block' : 'none';\n",
              "\n",
              "      async function convertToInteractive(key) {\n",
              "        const element = document.querySelector('#df-ca48e22d-2843-4e1a-9747-7a51e0e0bc8e');\n",
              "        const dataTable =\n",
              "          await google.colab.kernel.invokeFunction('convertToInteractive',\n",
              "                                                    [key], {});\n",
              "        if (!dataTable) return;\n",
              "\n",
              "        const docLinkHtml = 'Like what you see? Visit the ' +\n",
              "          '<a target=\"_blank\" href=https://colab.research.google.com/notebooks/data_table.ipynb>data table notebook</a>'\n",
              "          + ' to learn more about interactive tables.';\n",
              "        element.innerHTML = '';\n",
              "        dataTable['output_type'] = 'display_data';\n",
              "        await google.colab.output.renderOutput(dataTable, element);\n",
              "        const docLink = document.createElement('div');\n",
              "        docLink.innerHTML = docLinkHtml;\n",
              "        element.appendChild(docLink);\n",
              "      }\n",
              "    </script>\n",
              "  </div>\n",
              "\n",
              "\n",
              "<div id=\"df-17e108c9-203e-47af-b269-f1b944587ad3\">\n",
              "  <button class=\"colab-df-quickchart\" onclick=\"quickchart('df-17e108c9-203e-47af-b269-f1b944587ad3')\"\n",
              "            title=\"Suggest charts\"\n",
              "            style=\"display:none;\">\n",
              "\n",
              "<svg xmlns=\"http://www.w3.org/2000/svg\" height=\"24px\"viewBox=\"0 0 24 24\"\n",
              "     width=\"24px\">\n",
              "    <g>\n",
              "        <path d=\"M19 3H5c-1.1 0-2 .9-2 2v14c0 1.1.9 2 2 2h14c1.1 0 2-.9 2-2V5c0-1.1-.9-2-2-2zM9 17H7v-7h2v7zm4 0h-2V7h2v10zm4 0h-2v-4h2v4z\"/>\n",
              "    </g>\n",
              "</svg>\n",
              "  </button>\n",
              "\n",
              "<style>\n",
              "  .colab-df-quickchart {\n",
              "      --bg-color: #E8F0FE;\n",
              "      --fill-color: #1967D2;\n",
              "      --hover-bg-color: #E2EBFA;\n",
              "      --hover-fill-color: #174EA6;\n",
              "      --disabled-fill-color: #AAA;\n",
              "      --disabled-bg-color: #DDD;\n",
              "  }\n",
              "\n",
              "  [theme=dark] .colab-df-quickchart {\n",
              "      --bg-color: #3B4455;\n",
              "      --fill-color: #D2E3FC;\n",
              "      --hover-bg-color: #434B5C;\n",
              "      --hover-fill-color: #FFFFFF;\n",
              "      --disabled-bg-color: #3B4455;\n",
              "      --disabled-fill-color: #666;\n",
              "  }\n",
              "\n",
              "  .colab-df-quickchart {\n",
              "    background-color: var(--bg-color);\n",
              "    border: none;\n",
              "    border-radius: 50%;\n",
              "    cursor: pointer;\n",
              "    display: none;\n",
              "    fill: var(--fill-color);\n",
              "    height: 32px;\n",
              "    padding: 0;\n",
              "    width: 32px;\n",
              "  }\n",
              "\n",
              "  .colab-df-quickchart:hover {\n",
              "    background-color: var(--hover-bg-color);\n",
              "    box-shadow: 0 1px 2px rgba(60, 64, 67, 0.3), 0 1px 3px 1px rgba(60, 64, 67, 0.15);\n",
              "    fill: var(--button-hover-fill-color);\n",
              "  }\n",
              "\n",
              "  .colab-df-quickchart-complete:disabled,\n",
              "  .colab-df-quickchart-complete:disabled:hover {\n",
              "    background-color: var(--disabled-bg-color);\n",
              "    fill: var(--disabled-fill-color);\n",
              "    box-shadow: none;\n",
              "  }\n",
              "\n",
              "  .colab-df-spinner {\n",
              "    border: 2px solid var(--fill-color);\n",
              "    border-color: transparent;\n",
              "    border-bottom-color: var(--fill-color);\n",
              "    animation:\n",
              "      spin 1s steps(1) infinite;\n",
              "  }\n",
              "\n",
              "  @keyframes spin {\n",
              "    0% {\n",
              "      border-color: transparent;\n",
              "      border-bottom-color: var(--fill-color);\n",
              "      border-left-color: var(--fill-color);\n",
              "    }\n",
              "    20% {\n",
              "      border-color: transparent;\n",
              "      border-left-color: var(--fill-color);\n",
              "      border-top-color: var(--fill-color);\n",
              "    }\n",
              "    30% {\n",
              "      border-color: transparent;\n",
              "      border-left-color: var(--fill-color);\n",
              "      border-top-color: var(--fill-color);\n",
              "      border-right-color: var(--fill-color);\n",
              "    }\n",
              "    40% {\n",
              "      border-color: transparent;\n",
              "      border-right-color: var(--fill-color);\n",
              "      border-top-color: var(--fill-color);\n",
              "    }\n",
              "    60% {\n",
              "      border-color: transparent;\n",
              "      border-right-color: var(--fill-color);\n",
              "    }\n",
              "    80% {\n",
              "      border-color: transparent;\n",
              "      border-right-color: var(--fill-color);\n",
              "      border-bottom-color: var(--fill-color);\n",
              "    }\n",
              "    90% {\n",
              "      border-color: transparent;\n",
              "      border-bottom-color: var(--fill-color);\n",
              "    }\n",
              "  }\n",
              "</style>\n",
              "\n",
              "  <script>\n",
              "    async function quickchart(key) {\n",
              "      const quickchartButtonEl =\n",
              "        document.querySelector('#' + key + ' button');\n",
              "      quickchartButtonEl.disabled = true;  // To prevent multiple clicks.\n",
              "      quickchartButtonEl.classList.add('colab-df-spinner');\n",
              "      try {\n",
              "        const charts = await google.colab.kernel.invokeFunction(\n",
              "            'suggestCharts', [key], {});\n",
              "      } catch (error) {\n",
              "        console.error('Error during call to suggestCharts:', error);\n",
              "      }\n",
              "      quickchartButtonEl.classList.remove('colab-df-spinner');\n",
              "      quickchartButtonEl.classList.add('colab-df-quickchart-complete');\n",
              "    }\n",
              "    (() => {\n",
              "      let quickchartButtonEl =\n",
              "        document.querySelector('#df-17e108c9-203e-47af-b269-f1b944587ad3 button');\n",
              "      quickchartButtonEl.style.display =\n",
              "        google.colab.kernel.accessAllowed ? 'block' : 'none';\n",
              "    })();\n",
              "  </script>\n",
              "</div>\n",
              "\n",
              "    </div>\n",
              "  </div>\n"
            ],
            "text/plain": [
              "                                          image_path   label\n",
              "0  /content/drive/MyDrive/GFG/27. Working with Sa...  Cloudy\n",
              "1  /content/drive/MyDrive/GFG/27. Working with Sa...  Cloudy\n",
              "2  /content/drive/MyDrive/GFG/27. Working with Sa...  Cloudy\n",
              "3  /content/drive/MyDrive/GFG/27. Working with Sa...  Cloudy\n",
              "4  /content/drive/MyDrive/GFG/27. Working with Sa...  Cloudy"
            ]
          },
          "execution_count": 6,
          "metadata": {},
          "output_type": "execute_result"
        }
      ],
      "source": [
        "# Load the dataset\n",
        "df = pd.read_csv(\"image_dataset.csv\")\n",
        "df.head()"
      ]
    },
    {
      "cell_type": "markdown",
      "metadata": {
        "id": "SR31QU8SIFtc"
      },
      "source": [
        "### Data Splits & Augmentation"
      ]
    },
    {
      "cell_type": "code",
      "execution_count": null,
      "metadata": {
        "id": "YSvQKbFYz9pK"
      },
      "outputs": [],
      "source": [
        "# Split the dataset into training and testing sets\n",
        "train_df, test_df = train_test_split(df, test_size=0.2, random_state=42)"
      ]
    },
    {
      "cell_type": "code",
      "execution_count": null,
      "metadata": {
        "colab": {
          "base_uri": "https://localhost:8080/"
        },
        "id": "cyCzVWz5-qLb",
        "outputId": "204c523c-8063-4d54-c94a-28bc8e0657a9"
      },
      "outputs": [
        {
          "name": "stdout",
          "output_type": "stream",
          "text": [
            "Help on class ImageDataGenerator in module keras.src.preprocessing.image:\n",
            "\n",
            "class ImageDataGenerator(builtins.object)\n",
            " |  ImageDataGenerator(featurewise_center=False, samplewise_center=False, featurewise_std_normalization=False, samplewise_std_normalization=False, zca_whitening=False, zca_epsilon=1e-06, rotation_range=0, width_shift_range=0.0, height_shift_range=0.0, brightness_range=None, shear_range=0.0, zoom_range=0.0, channel_shift_range=0.0, fill_mode='nearest', cval=0.0, horizontal_flip=False, vertical_flip=False, rescale=None, preprocessing_function=None, data_format=None, validation_split=0.0, interpolation_order=1, dtype=None)\n",
            " |  \n",
            " |  Generate batches of tensor image data with real-time data augmentation.\n",
            " |  \n",
            " |  Deprecated: `tf.keras.preprocessing.image.ImageDataGenerator` is not\n",
            " |  recommended for new code. Prefer loading images with\n",
            " |  `tf.keras.utils.image_dataset_from_directory` and transforming the output\n",
            " |  `tf.data.Dataset` with preprocessing layers. For more information, see the\n",
            " |  tutorials for [loading images](\n",
            " |  https://www.tensorflow.org/tutorials/load_data/images) and\n",
            " |  [augmenting images](\n",
            " |  https://www.tensorflow.org/tutorials/images/data_augmentation), as well as\n",
            " |  the [preprocessing layer guide](\n",
            " |  https://www.tensorflow.org/guide/keras/preprocessing_layers).\n",
            " |  \n",
            " |   The data will be looped over (in batches).\n",
            " |  \n",
            " |  Args:\n",
            " |      featurewise_center: Boolean. Set input mean to 0 over the dataset,\n",
            " |        feature-wise.\n",
            " |      samplewise_center: Boolean. Set each sample mean to 0.\n",
            " |      featurewise_std_normalization: Boolean. Divide inputs by std of the\n",
            " |        dataset, feature-wise.\n",
            " |      samplewise_std_normalization: Boolean. Divide each input by its std.\n",
            " |      zca_epsilon: epsilon for ZCA whitening. Default is 1e-6.\n",
            " |      zca_whitening: Boolean. Apply ZCA whitening.\n",
            " |      rotation_range: Int. Degree range for random rotations.\n",
            " |      width_shift_range: Float, 1-D array-like or int\n",
            " |          - float: fraction of total width, if < 1, or pixels if >= 1.\n",
            " |          - 1-D array-like: random elements from the array.\n",
            " |          - int: integer number of pixels from interval `(-width_shift_range,\n",
            " |            +width_shift_range)` - With `width_shift_range=2` possible values\n",
            " |            are integers `[-1, 0, +1]`, same as with `width_shift_range=[-1,\n",
            " |            0, +1]`, while with `width_shift_range=1.0` possible values are\n",
            " |            floats in the interval [-1.0, +1.0).\n",
            " |      height_shift_range: Float, 1-D array-like or int\n",
            " |          - float: fraction of total height, if < 1, or pixels if >= 1.\n",
            " |          - 1-D array-like: random elements from the array.\n",
            " |          - int: integer number of pixels from interval `(-height_shift_range,\n",
            " |            +height_shift_range)` - With `height_shift_range=2` possible\n",
            " |            values are integers `[-1, 0, +1]`, same as with\n",
            " |            `height_shift_range=[-1, 0, +1]`, while with\n",
            " |            `height_shift_range=1.0` possible values are floats in the\n",
            " |            interval [-1.0, +1.0).\n",
            " |      brightness_range: Tuple or list of two floats. Range for picking a\n",
            " |        brightness shift value from.\n",
            " |      shear_range: Float. Shear Intensity (Shear angle in counter-clockwise\n",
            " |        direction in degrees)\n",
            " |      zoom_range: Float or [lower, upper]. Range for random zoom. If a float,\n",
            " |        `[lower, upper] = [1-zoom_range, 1+zoom_range]`.\n",
            " |      channel_shift_range: Float. Range for random channel shifts.\n",
            " |      fill_mode: One of {\"constant\", \"nearest\", \"reflect\" or \"wrap\"}. Default\n",
            " |        is 'nearest'. Points outside the boundaries of the input are filled\n",
            " |        according to the given mode:\n",
            " |          - 'constant': kkkkkkkk|abcd|kkkkkkkk (cval=k)\n",
            " |          - 'nearest':  aaaaaaaa|abcd|dddddddd\n",
            " |          - 'reflect':  abcddcba|abcd|dcbaabcd\n",
            " |          - 'wrap':  abcdabcd|abcd|abcdabcd\n",
            " |      cval: Float or Int. Value used for points outside the boundaries when\n",
            " |        `fill_mode = \"constant\"`.\n",
            " |      horizontal_flip: Boolean. Randomly flip inputs horizontally.\n",
            " |      vertical_flip: Boolean. Randomly flip inputs vertically.\n",
            " |      rescale: rescaling factor. If None or 0, no rescaling\n",
            " |        is applied, otherwise we multiply the data by the value provided\n",
            " |        (after applying all other transformations). Defaults to `None`.\n",
            " |      preprocessing_function: function that will be applied on each input. The\n",
            " |        function will run after the image is resized and augmented.\n",
            " |          The function should take one argument: one image (Numpy tensor with\n",
            " |            rank 3), and should output a Numpy tensor with the same shape.\n",
            " |      data_format: Image data format, either \"channels_first\" or\n",
            " |        \"channels_last\". \"channels_last\" mode means that the images should\n",
            " |        have shape `(samples, height, width, channels)`, \"channels_first\" mode\n",
            " |        means that the images should have shape `(samples, channels, height,\n",
            " |        width)`. When unspecified, uses `image_data_format` value found in\n",
            " |        your Keras config file at `~/.keras/keras.json` (if exists) else\n",
            " |        'channels_last'. Defaults to \"channels_last\".\n",
            " |      validation_split: Float. Fraction of images reserved for validation\n",
            " |        (strictly between 0 and 1).\n",
            " |      dtype: Dtype to use for the generated arrays.\n",
            " |  \n",
            " |  Raises:\n",
            " |    ValueError: If the value of the argument, `data_format` is other than\n",
            " |          `\"channels_last\"` or `\"channels_first\"`.\n",
            " |    ValueError: If the value of the argument, `validation_split` > 1\n",
            " |          or `validation_split` < 0.\n",
            " |  \n",
            " |  Examples:\n",
            " |  \n",
            " |  Example of using `.flow(x, y)`:\n",
            " |  \n",
            " |  ```python\n",
            " |  (x_train, y_train), (x_test, y_test) = cifar10.load_data()\n",
            " |  y_train = utils.to_categorical(y_train, num_classes)\n",
            " |  y_test = utils.to_categorical(y_test, num_classes)\n",
            " |  datagen = ImageDataGenerator(\n",
            " |      featurewise_center=True,\n",
            " |      featurewise_std_normalization=True,\n",
            " |      rotation_range=20,\n",
            " |      width_shift_range=0.2,\n",
            " |      height_shift_range=0.2,\n",
            " |      horizontal_flip=True,\n",
            " |      validation_split=0.2)\n",
            " |  # compute quantities required for featurewise normalization\n",
            " |  # (std, mean, and principal components if ZCA whitening is applied)\n",
            " |  datagen.fit(x_train)\n",
            " |  # fits the model on batches with real-time data augmentation:\n",
            " |  model.fit(datagen.flow(x_train, y_train, batch_size=32,\n",
            " |           subset='training'),\n",
            " |           validation_data=datagen.flow(x_train, y_train,\n",
            " |           batch_size=8, subset='validation'),\n",
            " |           steps_per_epoch=len(x_train) / 32, epochs=epochs)\n",
            " |  # here's a more \"manual\" example\n",
            " |  for e in range(epochs):\n",
            " |      print('Epoch', e)\n",
            " |      batches = 0\n",
            " |      for x_batch, y_batch in datagen.flow(x_train, y_train, batch_size=32):\n",
            " |          model.fit(x_batch, y_batch)\n",
            " |          batches += 1\n",
            " |          if batches >= len(x_train) / 32:\n",
            " |              # we need to break the loop by hand because\n",
            " |              # the generator loops indefinitely\n",
            " |              break\n",
            " |  ```\n",
            " |  \n",
            " |  Example of using `.flow_from_directory(directory)`:\n",
            " |  \n",
            " |  ```python\n",
            " |  train_datagen = ImageDataGenerator(\n",
            " |          rescale=1./255,\n",
            " |          shear_range=0.2,\n",
            " |          zoom_range=0.2,\n",
            " |          horizontal_flip=True)\n",
            " |  test_datagen = ImageDataGenerator(rescale=1./255)\n",
            " |  train_generator = train_datagen.flow_from_directory(\n",
            " |          'data/train',\n",
            " |          target_size=(150, 150),\n",
            " |          batch_size=32,\n",
            " |          class_mode='binary')\n",
            " |  validation_generator = test_datagen.flow_from_directory(\n",
            " |          'data/validation',\n",
            " |          target_size=(150, 150),\n",
            " |          batch_size=32,\n",
            " |          class_mode='binary')\n",
            " |  model.fit(\n",
            " |          train_generator,\n",
            " |          steps_per_epoch=2000,\n",
            " |          epochs=50,\n",
            " |          validation_data=validation_generator,\n",
            " |          validation_steps=800)\n",
            " |  ```\n",
            " |  \n",
            " |  Example of transforming images and masks together.\n",
            " |  \n",
            " |  ```python\n",
            " |  # we create two instances with the same arguments\n",
            " |  data_gen_args = dict(featurewise_center=True,\n",
            " |                       featurewise_std_normalization=True,\n",
            " |                       rotation_range=90,\n",
            " |                       width_shift_range=0.1,\n",
            " |                       height_shift_range=0.1,\n",
            " |                       zoom_range=0.2)\n",
            " |  image_datagen = ImageDataGenerator(**data_gen_args)\n",
            " |  mask_datagen = ImageDataGenerator(**data_gen_args)\n",
            " |  # Provide the same seed and keyword arguments to the fit and flow methods\n",
            " |  seed = 1\n",
            " |  image_datagen.fit(images, augment=True, seed=seed)\n",
            " |  mask_datagen.fit(masks, augment=True, seed=seed)\n",
            " |  image_generator = image_datagen.flow_from_directory(\n",
            " |      'data/images',\n",
            " |      class_mode=None,\n",
            " |      seed=seed)\n",
            " |  mask_generator = mask_datagen.flow_from_directory(\n",
            " |      'data/masks',\n",
            " |      class_mode=None,\n",
            " |      seed=seed)\n",
            " |  # combine generators into one which yields image and masks\n",
            " |  train_generator = zip(image_generator, mask_generator)\n",
            " |  model.fit(\n",
            " |      train_generator,\n",
            " |      steps_per_epoch=2000,\n",
            " |      epochs=50)\n",
            " |  ```\n",
            " |  \n",
            " |  Methods defined here:\n",
            " |  \n",
            " |  __init__(self, featurewise_center=False, samplewise_center=False, featurewise_std_normalization=False, samplewise_std_normalization=False, zca_whitening=False, zca_epsilon=1e-06, rotation_range=0, width_shift_range=0.0, height_shift_range=0.0, brightness_range=None, shear_range=0.0, zoom_range=0.0, channel_shift_range=0.0, fill_mode='nearest', cval=0.0, horizontal_flip=False, vertical_flip=False, rescale=None, preprocessing_function=None, data_format=None, validation_split=0.0, interpolation_order=1, dtype=None)\n",
            " |      Initialize self.  See help(type(self)) for accurate signature.\n",
            " |  \n",
            " |  apply_transform(self, x, transform_parameters)\n",
            " |      Applies a transformation to an image according to given parameters.\n",
            " |      \n",
            " |      Args:\n",
            " |          x: 3D tensor, single image.\n",
            " |          transform_parameters: Dictionary with string - parameter pairs\n",
            " |              describing the transformation.\n",
            " |              Currently, the following parameters\n",
            " |              from the dictionary are used:\n",
            " |              - `'theta'`: Float. Rotation angle in degrees.\n",
            " |              - `'tx'`: Float. Shift in the x direction.\n",
            " |              - `'ty'`: Float. Shift in the y direction.\n",
            " |              - `'shear'`: Float. Shear angle in degrees.\n",
            " |              - `'zx'`: Float. Zoom in the x direction.\n",
            " |              - `'zy'`: Float. Zoom in the y direction.\n",
            " |              - `'flip_horizontal'`: Boolean. Horizontal flip.\n",
            " |              - `'flip_vertical'`: Boolean. Vertical flip.\n",
            " |              - `'channel_shift_intensity'`: Float. Channel shift intensity.\n",
            " |              - `'brightness'`: Float. Brightness shift intensity.\n",
            " |      \n",
            " |      Returns:\n",
            " |          A transformed version of the input (same shape).\n",
            " |  \n",
            " |  fit(self, x, augment=False, rounds=1, seed=None)\n",
            " |      Fits the data generator to some sample data.\n",
            " |      \n",
            " |      This computes the internal data stats related to the\n",
            " |      data-dependent transformations, based on an array of sample data.\n",
            " |      \n",
            " |      Only required if `featurewise_center` or\n",
            " |      `featurewise_std_normalization` or `zca_whitening` are set to True.\n",
            " |      \n",
            " |      When `rescale` is set to a value, rescaling is applied to\n",
            " |      sample data before computing the internal data stats.\n",
            " |      \n",
            " |      Args:\n",
            " |          x: Sample data. Should have rank 4.\n",
            " |           In case of grayscale data,\n",
            " |           the channels axis should have value 1, in case\n",
            " |           of RGB data, it should have value 3, and in case\n",
            " |           of RGBA data, it should have value 4.\n",
            " |          augment: Boolean (default: False).\n",
            " |              Whether to fit on randomly augmented samples.\n",
            " |          rounds: Int (default: 1).\n",
            " |              If using data augmentation (`augment=True`),\n",
            " |              this is how many augmentation passes over the data to use.\n",
            " |          seed: Int (default: None). Random seed.\n",
            " |  \n",
            " |  flow(self, x, y=None, batch_size=32, shuffle=True, sample_weight=None, seed=None, save_to_dir=None, save_prefix='', save_format='png', ignore_class_split=False, subset=None)\n",
            " |      Takes data & label arrays, generates batches of augmented data.\n",
            " |      \n",
            " |      Args:\n",
            " |          x: Input data. Numpy array of rank 4 or a tuple. If tuple, the first\n",
            " |            element should contain the images and the second element another\n",
            " |            numpy array or a list of numpy arrays that gets passed to the\n",
            " |            output without any modifications. Can be used to feed the model\n",
            " |            miscellaneous data along with the images. In case of grayscale\n",
            " |            data, the channels axis of the image array should have value 1, in\n",
            " |            case of RGB data, it should have value 3, and in case of RGBA\n",
            " |            data, it should have value 4.\n",
            " |          y: Labels.\n",
            " |          batch_size: Int (default: 32).\n",
            " |          shuffle: Boolean (default: True).\n",
            " |          sample_weight: Sample weights.\n",
            " |          seed: Int (default: None).\n",
            " |          save_to_dir: None or str (default: None). This allows you to\n",
            " |            optionally specify a directory to which to save the augmented\n",
            " |            pictures being generated (useful for visualizing what you are\n",
            " |            doing).\n",
            " |          save_prefix: Str (default: `''`). Prefix to use for filenames of\n",
            " |            saved pictures (only relevant if `save_to_dir` is set).\n",
            " |          save_format: one of \"png\", \"jpeg\", \"bmp\", \"pdf\", \"ppm\", \"gif\",\n",
            " |            \"tif\", \"jpg\" (only relevant if `save_to_dir` is set). Default:\n",
            " |            \"png\".\n",
            " |          ignore_class_split: Boolean (default: False), ignore difference\n",
            " |            in number of classes in labels across train and validation\n",
            " |            split (useful for non-classification tasks)\n",
            " |          subset: Subset of data (`\"training\"` or `\"validation\"`) if\n",
            " |            `validation_split` is set in `ImageDataGenerator`.\n",
            " |      \n",
            " |      Returns:\n",
            " |          An `Iterator` yielding tuples of `(x, y)`\n",
            " |              where `x` is a numpy array of image data\n",
            " |              (in the case of a single image input) or a list\n",
            " |              of numpy arrays (in the case with\n",
            " |              additional inputs) and `y` is a numpy array\n",
            " |              of corresponding labels. If 'sample_weight' is not None,\n",
            " |              the yielded tuples are of the form `(x, y, sample_weight)`.\n",
            " |              If `y` is None, only the numpy array `x` is returned.\n",
            " |      Raises:\n",
            " |        ValueError: If the Value of the argument, `subset` is other than\n",
            " |              \"training\" or \"validation\".\n",
            " |  \n",
            " |  flow_from_dataframe(self, dataframe, directory=None, x_col='filename', y_col='class', weight_col=None, target_size=(256, 256), color_mode='rgb', classes=None, class_mode='categorical', batch_size=32, shuffle=True, seed=None, save_to_dir=None, save_prefix='', save_format='png', subset=None, interpolation='nearest', validate_filenames=True, **kwargs)\n",
            " |      Takes the dataframe and the path to a directory + generates batches.\n",
            " |      \n",
            " |       The generated batches contain augmented/normalized data.\n",
            " |      \n",
            " |      **A simple tutorial can be found **[here](\n",
            " |                                  http://bit.ly/keras_flow_from_dataframe).\n",
            " |      \n",
            " |      Args:\n",
            " |          dataframe: Pandas dataframe containing the filepaths relative to\n",
            " |              `directory` (or absolute paths if `directory` is None) of the\n",
            " |              images in a string column. It should include other column/s\n",
            " |              depending on the `class_mode`:\n",
            " |              - if `class_mode` is `\"categorical\"` (default value) it must\n",
            " |                  include the `y_col` column with the class/es of each image.\n",
            " |                  Values in column can be string/list/tuple if a single class\n",
            " |                  or list/tuple if multiple classes.\n",
            " |              - if `class_mode` is `\"binary\"` or `\"sparse\"` it must include\n",
            " |                  the given `y_col` column with class values as strings.\n",
            " |              - if `class_mode` is `\"raw\"` or `\"multi_output\"` it should\n",
            " |                  contain the columns specified in `y_col`.\n",
            " |              - if `class_mode` is `\"input\"` or `None` no extra column is\n",
            " |                  needed.\n",
            " |          directory: string, path to the directory to read images from. If\n",
            " |            `None`, data in `x_col` column should be absolute paths.\n",
            " |          x_col: string, column in `dataframe` that contains the filenames (or\n",
            " |            absolute paths if `directory` is `None`).\n",
            " |          y_col: string or list, column/s in `dataframe` that has the target\n",
            " |            data.\n",
            " |          weight_col: string, column in `dataframe` that contains the sample\n",
            " |              weights. Default: `None`.\n",
            " |          target_size: tuple of integers `(height, width)`, default: `(256,\n",
            " |            256)`. The dimensions to which all images found will be resized.\n",
            " |          color_mode: one of \"grayscale\", \"rgb\", \"rgba\". Default: \"rgb\".\n",
            " |            Whether the images will be converted to have 1 or 3 color\n",
            " |            channels.\n",
            " |          classes: optional list of classes (e.g. `['dogs', 'cats']`). Default\n",
            " |            is None. If not provided, the list of classes will be\n",
            " |            automatically inferred from the `y_col`, which will map to the\n",
            " |            label indices, will be alphanumeric). The dictionary containing\n",
            " |            the mapping from class names to class indices can be obtained via\n",
            " |            the attribute `class_indices`.\n",
            " |          class_mode: one of \"binary\", \"categorical\", \"input\", \"multi_output\",\n",
            " |              \"raw\", sparse\" or None. Default: \"categorical\".\n",
            " |              Mode for yielding the targets:\n",
            " |              - `\"binary\"`: 1D numpy array of binary labels,\n",
            " |              - `\"categorical\"`: 2D numpy array of one-hot encoded labels.\n",
            " |                Supports multi-label output.\n",
            " |              - `\"input\"`: images identical to input images (mainly used to\n",
            " |                work with autoencoders),\n",
            " |              - `\"multi_output\"`: list with the values of the different\n",
            " |                columns,\n",
            " |              - `\"raw\"`: numpy array of values in `y_col` column(s),\n",
            " |              - `\"sparse\"`: 1D numpy array of integer labels,\n",
            " |              - `None`, no targets are returned (the generator will only yield\n",
            " |                batches of image data, which is useful to use in\n",
            " |                `model.predict()`).\n",
            " |          batch_size: size of the batches of data (default: 32).\n",
            " |          shuffle: whether to shuffle the data (default: True)\n",
            " |          seed: optional random seed for shuffling and transformations.\n",
            " |          save_to_dir: None or str (default: None). This allows you to\n",
            " |            optionally specify a directory to which to save the augmented\n",
            " |            pictures being generated (useful for visualizing what you are\n",
            " |            doing).\n",
            " |          save_prefix: str. Prefix to use for filenames of saved pictures\n",
            " |            (only relevant if `save_to_dir` is set).\n",
            " |          save_format: one of \"png\", \"jpeg\", \"bmp\", \"pdf\", \"ppm\", \"gif\",\n",
            " |            \"tif\", \"jpg\" (only relevant if `save_to_dir` is set). Default:\n",
            " |            \"png\".\n",
            " |          subset: Subset of data (`\"training\"` or `\"validation\"`) if\n",
            " |            `validation_split` is set in `ImageDataGenerator`.\n",
            " |          interpolation: Interpolation method used to resample the image if\n",
            " |            the target size is different from that of the loaded image.\n",
            " |            Supported methods are `\"nearest\"`, `\"bilinear\"`, and `\"bicubic\"`.\n",
            " |            If PIL version 1.1.3 or newer is installed, `\"lanczos\"` is also\n",
            " |            supported. If PIL version 3.4.0 or newer is installed, `\"box\"` and\n",
            " |            `\"hamming\"` are also supported. By default, `\"nearest\"` is used.\n",
            " |          validate_filenames: Boolean, whether to validate image filenames in\n",
            " |            `x_col`. If `True`, invalid images will be ignored. Disabling this\n",
            " |            option can lead to speed-up in the execution of this function.\n",
            " |            Defaults to `True`.\n",
            " |          **kwargs: legacy arguments for raising deprecation warnings.\n",
            " |      \n",
            " |      Returns:\n",
            " |          A `DataFrameIterator` yielding tuples of `(x, y)`\n",
            " |          where `x` is a numpy array containing a batch\n",
            " |          of images with shape `(batch_size, *target_size, channels)`\n",
            " |          and `y` is a numpy array of corresponding labels.\n",
            " |  \n",
            " |  flow_from_directory(self, directory, target_size=(256, 256), color_mode='rgb', classes=None, class_mode='categorical', batch_size=32, shuffle=True, seed=None, save_to_dir=None, save_prefix='', save_format='png', follow_links=False, subset=None, interpolation='nearest', keep_aspect_ratio=False)\n",
            " |      Takes the path to a directory & generates batches of augmented data.\n",
            " |      \n",
            " |      Args:\n",
            " |        directory: string, path to the target directory. It should contain\n",
            " |          one subdirectory per class. Any PNG, JPG, BMP, PPM or TIF images\n",
            " |          inside each of the subdirectories directory tree will be included\n",
            " |          in the generator. See [this script](\n",
            " |          https://gist.github.com/fchollet/0830affa1f7f19fd47b06d4cf89ed44d)\n",
            " |          for more details.\n",
            " |        target_size: Tuple of integers `(height, width)`. The dimensions to\n",
            " |          which all images found will be resized. Defaults to `(256,256)`.\n",
            " |        color_mode: One of \"grayscale\", \"rgb\", \"rgba\". Default: \"rgb\".\n",
            " |          Whether the images will be converted to have 1, 3, or 4 channels.\n",
            " |        classes: Optional list of class subdirectories (e.g. `['dogs',\n",
            " |          'cats']`). Default: None. If not provided, the list of classes\n",
            " |          will be automatically inferred from the subdirectory\n",
            " |          names/structure under `directory`, where each subdirectory will be\n",
            " |          treated as a different class (and the order of the classes, which\n",
            " |          will map to the label indices, will be alphanumeric). The\n",
            " |          dictionary containing the mapping from class names to class\n",
            " |          indices can be obtained via the attribute `class_indices`.\n",
            " |        class_mode: One of \"categorical\", \"binary\", \"sparse\",\n",
            " |          \"input\", or None.\n",
            " |          Determines the type of label arrays that are returned:\n",
            " |            - \"categorical\" will be 2D one-hot encoded labels,\n",
            " |            - \"binary\" will be 1D binary labels,\n",
            " |            - \"sparse\" will be 1D integer labels,\n",
            " |            - \"input\" will be images identical\n",
            " |              to input images (mainly used to work with autoencoders).\n",
            " |            - If None, no labels are returned\n",
            " |              (the generator will only yield batches of image data,\n",
            " |              which is useful to use with `model.predict_generator()`).\n",
            " |              Please note that in case of class_mode None,\n",
            " |              the data still needs to reside in a subdirectory\n",
            " |              of `directory` for it to work correctly.\n",
            " |            Defaults to \"categorical\".\n",
            " |        batch_size: Size of the batches of data. Defaults to `32`.\n",
            " |        shuffle: Whether to shuffle the data If `False`, sorts the\n",
            " |          data in alphanumeric order. Defaults to `True`.\n",
            " |        seed: Optional random seed for shuffling and transformations.\n",
            " |        save_to_dir: None or str (default: None). This allows you to\n",
            " |          optionally specify a directory to which to save the augmented\n",
            " |          pictures being generated (useful for visualizing what you are\n",
            " |          doing).\n",
            " |        save_prefix: Str. Prefix to use for filenames of saved pictures\n",
            " |          (only relevant if `save_to_dir` is set).\n",
            " |        save_format: one of \"png\", \"jpeg\", \"bmp\", \"pdf\", \"ppm\", \"gif\",\n",
            " |          \"tif\", \"jpg\" (only relevant if `save_to_dir` is set).\n",
            " |          Defaults to \"png\".\n",
            " |        follow_links: Whether to follow symlinks inside\n",
            " |          class subdirectories. Defaults to `False`.\n",
            " |        subset: Subset of data (`\"training\"` or `\"validation\"`) if\n",
            " |          `validation_split` is set in `ImageDataGenerator`.\n",
            " |        interpolation: Interpolation method used to resample the image if\n",
            " |          the target size is different from that of the loaded image.\n",
            " |          Supported methods are `\"nearest\"`, `\"bilinear\"`, and `\"bicubic\"`.\n",
            " |          If PIL version 1.1.3 or newer is installed, `\"lanczos\"` is also\n",
            " |          supported. If PIL version 3.4.0 or newer is installed, `\"box\"` and\n",
            " |          `\"hamming\"` are also supported. Defaults to `\"nearest\"`.\n",
            " |        keep_aspect_ratio: Boolean, whether to resize images to a target\n",
            " |          size without aspect ratio distortion. The image is cropped in\n",
            " |          the center with target aspect ratio before resizing.\n",
            " |      \n",
            " |      Returns:\n",
            " |        A `DirectoryIterator` yielding tuples of `(x, y)`\n",
            " |          where `x` is a numpy array containing a batch\n",
            " |          of images with shape `(batch_size, *target_size, channels)`\n",
            " |          and `y` is a numpy array of corresponding labels.\n",
            " |  \n",
            " |  get_random_transform(self, img_shape, seed=None)\n",
            " |      Generates random parameters for a transformation.\n",
            " |      \n",
            " |      Args:\n",
            " |          img_shape: Tuple of integers.\n",
            " |              Shape of the image that is transformed.\n",
            " |          seed: Random seed.\n",
            " |      \n",
            " |      Returns:\n",
            " |          A dictionary containing randomly chosen parameters describing the\n",
            " |          transformation.\n",
            " |  \n",
            " |  random_transform(self, x, seed=None)\n",
            " |      Applies a random transformation to an image.\n",
            " |      \n",
            " |      Args:\n",
            " |          x: 3D tensor, single image.\n",
            " |          seed: Random seed.\n",
            " |      \n",
            " |      Returns:\n",
            " |          A randomly transformed version of the input (same shape).\n",
            " |  \n",
            " |  standardize(self, x)\n",
            " |      Applies the normalization configuration in-place to a batch of\n",
            " |      inputs.\n",
            " |      \n",
            " |      `x` is changed in-place since the function is mainly used internally\n",
            " |      to standardize images and feed them to your network. If a copy of `x`\n",
            " |      would be created instead it would have a significant performance cost.\n",
            " |      If you want to apply this method without changing the input in-place\n",
            " |      you can call the method creating a copy before:\n",
            " |      \n",
            " |      standardize(np.copy(x))\n",
            " |      \n",
            " |      Args:\n",
            " |          x: Batch of inputs to be normalized.\n",
            " |      \n",
            " |      Returns:\n",
            " |          The inputs, normalized.\n",
            " |  \n",
            " |  ----------------------------------------------------------------------\n",
            " |  Data descriptors defined here:\n",
            " |  \n",
            " |  __dict__\n",
            " |      dictionary for instance variables (if defined)\n",
            " |  \n",
            " |  __weakref__\n",
            " |      list of weak references to the object (if defined)\n",
            "\n"
          ]
        }
      ],
      "source": [
        "help(ImageDataGenerator)"
      ]
    },
    {
      "cell_type": "code",
      "execution_count": null,
      "metadata": {
        "colab": {
          "base_uri": "https://localhost:8080/"
        },
        "id": "qCF07Bch0A2I",
        "outputId": "8229b260-c030-4735-caf1-ca643b4be39f"
      },
      "outputs": [
        {
          "name": "stdout",
          "output_type": "stream",
          "text": [
            "Found 4504 validated image filenames belonging to 4 classes.\n",
            "Found 1127 validated image filenames belonging to 4 classes.\n"
          ]
        }
      ],
      "source": [
        "# Pre-process the data\n",
        "train_datagen = ImageDataGenerator(rescale=1./255,\n",
        "                                   shear_range=0.2,\n",
        "                                   zoom_range=0.2,\n",
        "                                   horizontal_flip=True,\n",
        "                                   rotation_range=45,\n",
        "                                   vertical_flip=True,\n",
        "                                   fill_mode='nearest')\n",
        "\n",
        "\n",
        "test_datagen = ImageDataGenerator(rescale=1./255)\n",
        "\n",
        "train_generator = train_datagen.flow_from_dataframe(dataframe=train_df,\n",
        "                                                    x_col=\"image_path\",\n",
        "                                                    y_col=\"label\",\n",
        "                                                    target_size=(255, 255),\n",
        "                                                    batch_size=32,\n",
        "                                                    class_mode=\"categorical\")\n",
        "\n",
        "test_generator = test_datagen.flow_from_dataframe(dataframe=test_df,\n",
        "                                                  x_col=\"image_path\",\n",
        "                                                  y_col=\"label\",\n",
        "                                                  target_size=(255, 255),\n",
        "                                                  batch_size=32,\n",
        "                                                  class_mode=\"categorical\")"
      ]
    },
    {
      "cell_type": "markdown",
      "metadata": {
        "id": "G1cjwPDPIJ4m"
      },
      "source": [
        "### Building a Basic Deep Learning Model (CNN)"
      ]
    },
    {
      "cell_type": "markdown",
      "metadata": {
        "id": "92qqFxDcB2CT"
      },
      "source": [
        "relu = rectified linear unit = max(0, x)"
      ]
    },
    {
      "cell_type": "code",
      "execution_count": null,
      "metadata": {
        "id": "pZ1TA5Bx0DXU"
      },
      "outputs": [],
      "source": [
        "# Build a deep learning model\n",
        "model = Sequential()\n",
        "model.add(Conv2D(32, (3, 3), input_shape=(255, 255, 3), activation='relu'))\n",
        "model.add(Conv2D(32, (3, 3), activation='relu', input_shape=(64, 64, 3)))\n",
        "model.add(MaxPooling2D(2, 2))\n",
        "model.add(Conv2D(64, (3, 3), activation='relu'))\n",
        "model.add(MaxPooling2D(2, 2))\n",
        "model.add(Conv2D(128, (3, 3), activation='relu'))\n",
        "model.add(MaxPooling2D(2, 2))\n",
        "model.add(Flatten())\n",
        "model.add(Dense(128, activation='relu'))\n",
        "model.add(Dropout(0.5))\n",
        "model.add(Dense(4, activation='softmax'))\n",
        "\n",
        "model.compile(optimizer='adam', loss='categorical_crossentropy', metrics=['accuracy'])"
      ]
    },
    {
      "cell_type": "markdown",
      "metadata": {
        "id": "kAZxmyhUIP8U"
      },
      "source": [
        "### Training"
      ]
    },
    {
      "cell_type": "code",
      "execution_count": null,
      "metadata": {
        "colab": {
          "base_uri": "https://localhost:8080/"
        },
        "id": "4jd5HgXS0IKF",
        "outputId": "c1fa0bb9-2300-45ab-c9e5-9d49e86aa5e4"
      },
      "outputs": [
        {
          "name": "stdout",
          "output_type": "stream",
          "text": [
            "Epoch 1/5\n",
            "141/141 [==============================] - 1290s 9s/step - loss: 0.6649 - accuracy: 0.6639 - val_loss: 0.6217 - val_accuracy: 0.7418\n",
            "Epoch 2/5\n",
            "141/141 [==============================] - 83s 587ms/step - loss: 0.5735 - accuracy: 0.6843 - val_loss: 0.4961 - val_accuracy: 0.6930\n",
            "Epoch 3/5\n",
            "141/141 [==============================] - 85s 603ms/step - loss: 0.5275 - accuracy: 0.7325 - val_loss: 0.4619 - val_accuracy: 0.8323\n",
            "Epoch 4/5\n",
            "141/141 [==============================] - 85s 603ms/step - loss: 0.5370 - accuracy: 0.7500 - val_loss: 0.5374 - val_accuracy: 0.7782\n",
            "Epoch 5/5\n",
            "141/141 [==============================] - 83s 589ms/step - loss: 0.4278 - accuracy: 0.8197 - val_loss: 0.4429 - val_accuracy: 0.8217\n"
          ]
        }
      ],
      "source": [
        "history = model.fit(train_generator, epochs=5, validation_data=test_generator)"
      ]
    },
    {
      "cell_type": "code",
      "execution_count": null,
      "metadata": {
        "colab": {
          "base_uri": "https://localhost:8080/"
        },
        "id": "_-wkVfii0Qe4",
        "outputId": "a1a330c8-0b9e-4bb3-eb03-9c16ede2c99f"
      },
      "outputs": [
        {
          "name": "stdout",
          "output_type": "stream",
          "text": [
            "Model: \"sequential\"\n",
            "_________________________________________________________________\n",
            " Layer (type)                Output Shape              Param #   \n",
            "=================================================================\n",
            " conv2d (Conv2D)             (None, 253, 253, 32)      896       \n",
            "                                                                 \n",
            " conv2d_1 (Conv2D)           (None, 251, 251, 32)      9248      \n",
            "                                                                 \n",
            " max_pooling2d (MaxPooling2  (None, 125, 125, 32)      0         \n",
            " D)                                                              \n",
            "                                                                 \n",
            " conv2d_2 (Conv2D)           (None, 123, 123, 64)      18496     \n",
            "                                                                 \n",
            " max_pooling2d_1 (MaxPoolin  (None, 61, 61, 64)        0         \n",
            " g2D)                                                            \n",
            "                                                                 \n",
            " conv2d_3 (Conv2D)           (None, 59, 59, 128)       73856     \n",
            "                                                                 \n",
            " max_pooling2d_2 (MaxPoolin  (None, 29, 29, 128)       0         \n",
            " g2D)                                                            \n",
            "                                                                 \n",
            " flatten (Flatten)           (None, 107648)            0         \n",
            "                                                                 \n",
            " dense (Dense)               (None, 128)               13779072  \n",
            "                                                                 \n",
            " dropout (Dropout)           (None, 128)               0         \n",
            "                                                                 \n",
            " dense_1 (Dense)             (None, 4)                 516       \n",
            "                                                                 \n",
            "=================================================================\n",
            "Total params: 13882084 (52.96 MB)\n",
            "Trainable params: 13882084 (52.96 MB)\n",
            "Non-trainable params: 0 (0.00 Byte)\n",
            "_________________________________________________________________\n"
          ]
        }
      ],
      "source": [
        "model.summary()"
      ]
    },
    {
      "cell_type": "code",
      "execution_count": null,
      "metadata": {
        "colab": {
          "base_uri": "https://localhost:8080/",
          "height": 1000
        },
        "id": "-P0aYN2_0SK8",
        "outputId": "f85221ea-06df-4d65-a8fd-e0fd6ddd4214"
      },
      "outputs": [
        {
          "data": {
            "image/png": "[encoded data removed]",
            "text/plain": [
              "<PIL.PngImagePlugin.PngImageFile image mode=RGBA size=413x1291>"
            ]
          },
          "metadata": {},
          "output_type": "display_data"
        }
      ],
      "source": [
        "from tensorflow.keras.utils import plot_model\n",
        "from PIL import Image\n",
        "\n",
        "plot_model(model, to_file='cnn_model.png', show_shapes=True, show_layer_names=True)\n",
        "display(Image.open('cnn_model.png'))"
      ]
    },
    {
      "cell_type": "markdown",
      "metadata": {
        "id": "w-E5zn7mgoSs"
      },
      "source": [
        "### Model Evaluation"
      ]
    },
    {
      "cell_type": "code",
      "execution_count": null,
      "metadata": {
        "colab": {
          "base_uri": "https://localhost:8080/"
        },
        "id": "i0ReXYaS0K7Z",
        "outputId": "4f658fc3-206a-40e2-d4de-2d68bec589a2"
      },
      "outputs": [
        {
          "data": {
            "text/plain": [
              "1127"
            ]
          },
          "execution_count": 14,
          "metadata": {},
          "output_type": "execute_result"
        }
      ],
      "source": [
        "num_samples = test_df.shape[0]\n",
        "num_samples"
      ]
    },
    {
      "cell_type": "code",
      "execution_count": null,
      "metadata": {
        "colab": {
          "base_uri": "https://localhost:8080/"
        },
        "id": "nkropB9W0M2V",
        "outputId": "983d4d07-bb9a-447d-e4ef-2ba09828c5d3"
      },
      "outputs": [
        {
          "name": "stdout",
          "output_type": "stream",
          "text": [
            "36/36 [==============================] - 4s 104ms/step - loss: 0.4429 - accuracy: 0.8217\n"
          ]
        }
      ],
      "source": [
        "score = model.evaluate(test_generator,\n",
        "                       steps=num_samples//32+1,\n",
        "                       )"
      ]
    },
    {
      "cell_type": "code",
      "execution_count": null,
      "metadata": {
        "colab": {
          "base_uri": "https://localhost:8080/",
          "height": 861
        },
        "id": "r1PzCLwb0Umv",
        "outputId": "4af30a65-73de-4128-b05c-2dc21e967bb2"
      },
      "outputs": [
        {
          "data": {
            "image/png": "[encoded data removed]",
            "text/plain": [
              "<Figure size 640x480 with 1 Axes>"
            ]
          },
          "metadata": {},
          "output_type": "display_data"
        },
        {
          "data": {
            "image/png": "[encoded data removed]",
            "text/plain": [
              "<Figure size 640x480 with 1 Axes>"
            ]
          },
          "metadata": {},
          "output_type": "display_data"
        },
        {
          "data": {
            "text/plain": [
              "<Figure size 640x480 with 0 Axes>"
            ]
          },
          "metadata": {},
          "output_type": "display_data"
        }
      ],
      "source": [
        "import matplotlib.pyplot as plt\n",
        "\n",
        "# Plot the loss\n",
        "plt.plot(history.history['loss'], label='Training Loss')\n",
        "plt.plot(history.history['val_loss'], label='Validation Loss')\n",
        "plt.legend()\n",
        "plt.show()\n",
        "plt.savefig('LossVal_loss')\n",
        "\n",
        "# Plot the accuracy\n",
        "plt.plot(history.history['accuracy'], label='Training Accuracy')\n",
        "plt.plot(history.history['val_accuracy'], label='Validation Accuracy')\n",
        "plt.legend()\n",
        "plt.show()\n",
        "plt.savefig('AccVal_acc')"
      ]
    },
    {
      "cell_type": "code",
      "execution_count": null,
      "metadata": {
        "colab": {
          "base_uri": "https://localhost:8080/"
        },
        "id": "xq1_RnOk0W_1",
        "outputId": "96b4df1c-5b11-4283-dd51-f2ef06bbca03"
      },
      "outputs": [
        {
          "name": "stderr",
          "output_type": "stream",
          "text": [
            "/usr/local/lib/python3.10/dist-packages/keras/src/engine/training.py:3103: UserWarning: You are saving your model as an HDF5 file via `model.save()`. This file format is considered legacy. We recommend using instead the native Keras format, e.g. `model.save('my_model.keras')`.\n",
            "  saving_api.save_model(\n"
          ]
        }
      ],
      "source": [
        "# save it as a h5 file\n",
        "from tensorflow.keras.models import load_model\n",
        "model.save('Model.h5')"
      ]
    },
    {
      "cell_type": "markdown",
      "metadata": {
        "id": "cxl9S2yZgv2V"
      },
      "source": [
        "### Model Prediction"
      ]
    },
    {
      "cell_type": "code",
      "execution_count": null,
      "metadata": {
        "id": "ANs_dXA40aK7"
      },
      "outputs": [],
      "source": [
        "# Load the model\n",
        "model = load_model(\"Model.h5\")"
      ]
    },
    {
      "cell_type": "code",
      "execution_count": null,
      "metadata": {
        "id": "VdRnHBQQ0cCM"
      },
      "outputs": [],
      "source": [
        "import numpy as np\n",
        "from tensorflow.keras.preprocessing.image import load_img, img_to_array\n",
        "\n",
        "# Define the class names\n",
        "class_names = ['Cloudy', 'Desert', 'Green_Area', 'Water']"
      ]
    },
    {
      "cell_type": "code",
      "execution_count": null,
      "metadata": {
        "id": "7U8JPEOd0dt_"
      },
      "outputs": [],
      "source": [
        "# Load an image from the test set\n",
        "img = load_img(\"/content/drive/MyDrive/GFG/27. Working with Satellite Image Data - 6th January, 2024/data/green_area/Forest_1768.jpg\", target_size=(255, 255))"
      ]
    },
    {
      "cell_type": "code",
      "execution_count": null,
      "metadata": {
        "colab": {
          "base_uri": "https://localhost:8080/"
        },
        "id": "Eh6Jrr7z0fq_",
        "outputId": "4174ed4c-9ef9-4d48-a065-9b0c9eb9c62f"
      },
      "outputs": [
        {
          "data": {
            "text/plain": [
              "array([[[33., 60., 69.],\n",
              "        [33., 60., 69.],\n",
              "        [33., 60., 69.],\n",
              "        ...,\n",
              "        [38., 65., 72.],\n",
              "        [38., 65., 72.],\n",
              "        [38., 65., 72.]],\n",
              "\n",
              "       [[33., 60., 69.],\n",
              "        [33., 60., 69.],\n",
              "        [33., 60., 69.],\n",
              "        ...,\n",
              "        [38., 65., 72.],\n",
              "        [38., 65., 72.],\n",
              "        [38., 65., 72.]],\n",
              "\n",
              "       [[33., 60., 69.],\n",
              "        [33., 60., 69.],\n",
              "        [33., 60., 69.],\n",
              "        ...,\n",
              "        [38., 65., 72.],\n",
              "        [38., 65., 72.],\n",
              "        [38., 65., 72.]],\n",
              "\n",
              "       ...,\n",
              "\n",
              "       [[33., 57., 67.],\n",
              "        [33., 57., 67.],\n",
              "        [33., 57., 67.],\n",
              "        ...,\n",
              "        [31., 58., 65.],\n",
              "        [31., 58., 65.],\n",
              "        [31., 58., 65.]],\n",
              "\n",
              "       [[33., 57., 67.],\n",
              "        [33., 57., 67.],\n",
              "        [33., 57., 67.],\n",
              "        ...,\n",
              "        [31., 58., 65.],\n",
              "        [31., 58., 65.],\n",
              "        [31., 58., 65.]],\n",
              "\n",
              "       [[33., 57., 67.],\n",
              "        [33., 57., 67.],\n",
              "        [33., 57., 67.],\n",
              "        ...,\n",
              "        [31., 58., 65.],\n",
              "        [31., 58., 65.],\n",
              "        [31., 58., 65.]]], dtype=float32)"
            ]
          },
          "execution_count": 21,
          "metadata": {},
          "output_type": "execute_result"
        }
      ],
      "source": [
        "# Convert the image to an array\n",
        "img_array = img_to_array(img)\n",
        "img_array"
      ]
    },
    {
      "cell_type": "code",
      "execution_count": null,
      "metadata": {
        "colab": {
          "base_uri": "https://localhost:8080/"
        },
        "id": "bby7LrJ_0hhw",
        "outputId": "feac2e10-dcdb-471f-f1fe-4f64e67f2ae1"
      },
      "outputs": [
        {
          "data": {
            "text/plain": [
              "(255, 255, 3)"
            ]
          },
          "execution_count": 22,
          "metadata": {},
          "output_type": "execute_result"
        }
      ],
      "source": [
        "img_array.shape"
      ]
    },
    {
      "cell_type": "code",
      "execution_count": null,
      "metadata": {
        "colab": {
          "base_uri": "https://localhost:8080/"
        },
        "id": "YPMuthxH0jYx",
        "outputId": "ec267403-ed03-4c77-fd24-7e45f4ce1da8"
      },
      "outputs": [
        {
          "data": {
            "text/plain": [
              "array([[[0.12941177, 0.23529412, 0.27058825],\n",
              "        [0.12941177, 0.23529412, 0.27058825],\n",
              "        [0.12941177, 0.23529412, 0.27058825],\n",
              "        ...,\n",
              "        [0.14901961, 0.25490198, 0.28235295],\n",
              "        [0.14901961, 0.25490198, 0.28235295],\n",
              "        [0.14901961, 0.25490198, 0.28235295]],\n",
              "\n",
              "       [[0.12941177, 0.23529412, 0.27058825],\n",
              "        [0.12941177, 0.23529412, 0.27058825],\n",
              "        [0.12941177, 0.23529412, 0.27058825],\n",
              "        ...,\n",
              "        [0.14901961, 0.25490198, 0.28235295],\n",
              "        [0.14901961, 0.25490198, 0.28235295],\n",
              "        [0.14901961, 0.25490198, 0.28235295]],\n",
              "\n",
              "       [[0.12941177, 0.23529412, 0.27058825],\n",
              "        [0.12941177, 0.23529412, 0.27058825],\n",
              "        [0.12941177, 0.23529412, 0.27058825],\n",
              "        ...,\n",
              "        [0.14901961, 0.25490198, 0.28235295],\n",
              "        [0.14901961, 0.25490198, 0.28235295],\n",
              "        [0.14901961, 0.25490198, 0.28235295]],\n",
              "\n",
              "       ...,\n",
              "\n",
              "       [[0.12941177, 0.22352941, 0.2627451 ],\n",
              "        [0.12941177, 0.22352941, 0.2627451 ],\n",
              "        [0.12941177, 0.22352941, 0.2627451 ],\n",
              "        ...,\n",
              "        [0.12156863, 0.22745098, 0.25490198],\n",
              "        [0.12156863, 0.22745098, 0.25490198],\n",
              "        [0.12156863, 0.22745098, 0.25490198]],\n",
              "\n",
              "       [[0.12941177, 0.22352941, 0.2627451 ],\n",
              "        [0.12941177, 0.22352941, 0.2627451 ],\n",
              "        [0.12941177, 0.22352941, 0.2627451 ],\n",
              "        ...,\n",
              "        [0.12156863, 0.22745098, 0.25490198],\n",
              "        [0.12156863, 0.22745098, 0.25490198],\n",
              "        [0.12156863, 0.22745098, 0.25490198]],\n",
              "\n",
              "       [[0.12941177, 0.22352941, 0.2627451 ],\n",
              "        [0.12941177, 0.22352941, 0.2627451 ],\n",
              "        [0.12941177, 0.22352941, 0.2627451 ],\n",
              "        ...,\n",
              "        [0.12156863, 0.22745098, 0.25490198],\n",
              "        [0.12156863, 0.22745098, 0.25490198],\n",
              "        [0.12156863, 0.22745098, 0.25490198]]], dtype=float32)"
            ]
          },
          "execution_count": 23,
          "metadata": {},
          "output_type": "execute_result"
        }
      ],
      "source": [
        "# Normalize the image pixel values to the range [0, 1]\n",
        "img_array = img_array / 255.0\n",
        "img_array"
      ]
    },
    {
      "cell_type": "code",
      "execution_count": null,
      "metadata": {
        "id": "3N5LxkYH0ltf"
      },
      "outputs": [],
      "source": [
        "import numpy as np\n",
        "img_array = np.reshape(img_array, (1, 255, 255, 3))"
      ]
    },
    {
      "cell_type": "code",
      "execution_count": null,
      "metadata": {
        "colab": {
          "base_uri": "https://localhost:8080/"
        },
        "id": "jTLQljqT0ndc",
        "outputId": "6ac2fd73-7263-4526-dba2-186d9aea02dc"
      },
      "outputs": [
        {
          "name": "stdout",
          "output_type": "stream",
          "text": [
            "1/1 [==============================] - 0s 449ms/step\n"
          ]
        }
      ],
      "source": [
        "# Get the model predictions\n",
        "predictions = model.predict(img_array)"
      ]
    },
    {
      "cell_type": "code",
      "execution_count": null,
      "metadata": {
        "colab": {
          "base_uri": "https://localhost:8080/"
        },
        "id": "VYIOfhWJ0pI-",
        "outputId": "d5c57257-4051-4492-d569-b9560f5379cc"
      },
      "outputs": [
        {
          "name": "stdout",
          "output_type": "stream",
          "text": [
            "The image is predicted to be 'Green_Area'.\n"
          ]
        }
      ],
      "source": [
        "# Get the class index with the highest predicted probability\n",
        "class_index = np.argmax(predictions[0])\n",
        "\n",
        "# Get the predicted class label\n",
        "predicted_label = class_names[class_index]\n",
        "\n",
        "print(\"The image is predicted to be '{}'.\".format(predicted_label))"
      ]
    },
    {
      "cell_type": "code",
      "execution_count": null,
      "metadata": {
        "id": "K2yzunUj0q9c"
      },
      "outputs": [],
      "source": [
        "from sklearn.metrics import confusion_matrix\n",
        "import numpy as np"
      ]
    },
    {
      "cell_type": "code",
      "execution_count": null,
      "metadata": {
        "colab": {
          "base_uri": "https://localhost:8080/"
        },
        "id": "L1oXCTaT0s0c",
        "outputId": "89f42f78-3cf3-442e-d13f-c5671e8af0f6"
      },
      "outputs": [
        {
          "name": "stdout",
          "output_type": "stream",
          "text": [
            "36/36 [==============================] - 3s 87ms/step\n"
          ]
        }
      ],
      "source": [
        "predictions = model.predict(test_generator)"
      ]
    },
    {
      "cell_type": "code",
      "execution_count": null,
      "metadata": {
        "id": "HwD33ww10vAR"
      },
      "outputs": [],
      "source": [
        "actual_labels = test_generator.classes"
      ]
    },
    {
      "cell_type": "code",
      "execution_count": null,
      "metadata": {
        "colab": {
          "base_uri": "https://localhost:8080/"
        },
        "id": "UQ4fFvJI0wgT",
        "outputId": "d191ac07-d839-4e30-b9aa-a27534c1874f"
      },
      "outputs": [
        {
          "data": {
            "text/plain": [
              "array([0, 0, 3, ..., 0, 3, 2])"
            ]
          },
          "execution_count": 30,
          "metadata": {},
          "output_type": "execute_result"
        }
      ],
      "source": [
        "predicted_labels = np.argmax(predictions, axis=1)\n",
        "predicted_labels"
      ]
    },
    {
      "cell_type": "markdown",
      "metadata": {
        "id": "IALFLwuZg74D"
      },
      "source": [
        "### Confusion Matrix"
      ]
    },
    {
      "cell_type": "code",
      "execution_count": null,
      "metadata": {
        "id": "cUg_25P00zbE"
      },
      "outputs": [],
      "source": [
        "cm = confusion_matrix(actual_labels, predicted_labels)"
      ]
    },
    {
      "cell_type": "code",
      "execution_count": null,
      "metadata": {
        "colab": {
          "base_uri": "https://localhost:8080/"
        },
        "id": "RNRulcAU01Hq",
        "outputId": "a3bd947e-7054-43c9-c05f-b79684a140d4"
      },
      "outputs": [
        {
          "name": "stdout",
          "output_type": "stream",
          "text": [
            "[[110  53  66  99]\n",
            " [ 65  40  40  82]\n",
            " [ 76  45  66  97]\n",
            " [ 93  49  46 100]]\n"
          ]
        }
      ],
      "source": [
        "print(cm)"
      ]
    },
    {
      "cell_type": "code",
      "execution_count": null,
      "metadata": {
        "colab": {
          "base_uri": "https://localhost:8080/",
          "height": 506
        },
        "id": "vzlxFdNE04MR",
        "outputId": "bc798e1e-6576-4673-8424-b2731dfa0f6b"
      },
      "outputs": [
        {
          "data": {
            "image/png": "[encoded data removed]",
            "text/plain": [
              "<Figure size 640x480 with 2 Axes>"
            ]
          },
          "metadata": {},
          "output_type": "display_data"
        }
      ],
      "source": [
        "import matplotlib.pyplot as plt\n",
        "import numpy as np\n",
        "import itertools\n",
        "\n",
        "# Confusion matrix\n",
        "\n",
        "\n",
        "# Plot the confusion matrix as an image\n",
        "plt.imshow(cm, cmap=plt.cm.Blues)\n",
        "plt.title(\"Confusion Matrix\")\n",
        "plt.colorbar()\n",
        "\n",
        "# Add the class labels to the plot\n",
        "tick_marks = np.arange(len(class_names))\n",
        "plt.xticks(tick_marks, class_names, rotation=45)\n",
        "plt.yticks(tick_marks, class_names)\n",
        "\n",
        "# Add values to the plot\n",
        "threshold = cm.max() / 2.\n",
        "for i, j in itertools.product(range(cm.shape[0]), range(cm.shape[1])):\n",
        "    plt.text(j, i, cm[i, j],\n",
        "             horizontalalignment=\"center\",\n",
        "             color=\"white\" if cm[i, j] > threshold else \"black\")\n",
        "\n",
        "plt.tight_layout()\n",
        "plt.ylabel(\"True label\")\n",
        "plt.xlabel(\"Predicted label\")\n",
        "plt.show()"
      ]
    }
  ],
  "metadata": {
    "accelerator": "GPU",
    "colab": {
      "gpuType": "T4",
      "provenance": []
    },
    "kernelspec": {
      "display_name": "Python 3",
      "name": "python3"
    },
    "language_info": {
      "name": "python"
    }
  },
  "nbformat": 4,
  "nbformat_minor": 0
}
